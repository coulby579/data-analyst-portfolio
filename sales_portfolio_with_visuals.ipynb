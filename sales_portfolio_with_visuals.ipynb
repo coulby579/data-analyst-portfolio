{
 "cells": [
  {
   "cell_type": "markdown",
   "id": "e9e381fc",
   "metadata": {},
   "source": [
    "# 📊 Sales Data Analysis Portfolio Project\n",
    "**Author**: Your Name\n",
    "\n",
    "## 📝 Project Overview\n",
    "This notebook analyzes a small sales dataset to explore:\n",
    "- Top-selling products\n",
    "- Best-performing regions\n",
    "- Time-based sales trends"
   ]
  },
  {
   "cell_type": "code",
   "execution_count": null,
   "id": "b87aeb7e",
   "metadata": {},
   "outputs": [],
   "source": [
    "import pandas as pd\n",
    "import matplotlib.pyplot as plt\n",
    "import seaborn as sns\n",
    "from io import StringIO\n",
    "\n",
    "sample_csv = \"\"\"Date,Product,Region,Sales\n",
    "2024-01-01,Product A,North,1200\n",
    "2024-01-02,Product B,South,800\n",
    "2024-01-03,Product C,West,600\n",
    "2024-01-04,Product A,North,1100\n",
    "2024-01-05,Product B,South,750\n",
    "2024-01-06,Product A,East,900\n",
    "2024-01-07,Product C,West,650\n",
    "2024-01-08,Product B,South,820\n",
    "2024-01-09,Product A,East,970\n",
    "2024-01-10,Product C,North,640\n",
    "\"\"\"\n",
    "df = pd.read_csv(StringIO(sample_csv))\n",
    "df.head()"
   ]
  },
  {
   "cell_type": "markdown",
   "id": "d4ebb2a9",
   "metadata": {},
   "source": [
    "## 📦 Sales by Product"
   ]
  },
  {
   "cell_type": "code",
   "execution_count": null,
   "id": "43277a82",
   "metadata": {},
   "outputs": [],
   "source": [
    "product_sales = df.groupby('Product')['Sales'].sum().sort_values(ascending=False)\n",
    "sns.barplot(x=product_sales.values, y=product_sales.index)\n",
    "plt.title('Total Sales by Product')\n",
    "plt.xlabel('Sales')\n",
    "plt.ylabel('Product')\n",
    "plt.tight_layout()\n",
    "plt.show()"
   ]
  },
  {
   "cell_type": "markdown",
   "id": "2cc12c36",
   "metadata": {},
   "source": [
    "## 🌍 Sales by Region"
   ]
  },
  {
   "cell_type": "code",
   "execution_count": null,
   "id": "f4cbc287",
   "metadata": {},
   "outputs": [],
   "source": [
    "region_sales = df.groupby('Region')['Sales'].sum().sort_values(ascending=False)\n",
    "sns.barplot(x=region_sales.values, y=region_sales.index, palette='viridis')\n",
    "plt.title('Total Sales by Region')\n",
    "plt.xlabel('Sales')\n",
    "plt.ylabel('Region')\n",
    "plt.tight_layout()\n",
    "plt.show()"
   ]
  },
  {
   "cell_type": "markdown",
   "id": "a5186357",
   "metadata": {},
   "source": [
    "## 📅 Sales Over Time"
   ]
  },
  {
   "cell_type": "code",
   "execution_count": null,
   "id": "66f980c9",
   "metadata": {},
   "outputs": [],
   "source": [
    "df['Date'] = pd.to_datetime(df['Date'])\n",
    "daily_sales = df.groupby('Date')['Sales'].sum()\n",
    "daily_sales.plot(kind='line', marker='o')\n",
    "plt.title('Daily Sales Over Time')\n",
    "plt.xlabel('Date')\n",
    "plt.ylabel('Sales')\n",
    "plt.grid(True)\n",
    "plt.tight_layout()\n",
    "plt.show()"
   ]
  },
  {
   "cell_type": "markdown",
   "id": "373772c2",
   "metadata": {},
   "source": [
    "## 🔍 Key Insights\n",
    "- Product A is the top-selling item overall.\n",
    "- The South region leads in revenue.\n",
    "- Sales show a positive trend over the 10-day period."
   ]
  }
 ],
 "metadata": {},
 "nbformat": 4,
 "nbformat_minor": 5
}
